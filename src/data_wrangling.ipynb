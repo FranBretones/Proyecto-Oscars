{
 "cells": [
  {
   "cell_type": "code",
   "execution_count": null,
   "id": "c100f68d",
   "metadata": {},
   "outputs": [],
   "source": [
    "import pandas as pd\n",
    "import numpy as np \n",
    "import re\n",
    "from bs4 import BeautifulSoup\n"
   ]
  },
  {
   "cell_type": "markdown",
   "id": "00b6dffb",
   "metadata": {},
   "source": [
    "#### Dataset from kaggle.com"
   ]
  },
  {
   "cell_type": "code",
   "execution_count": null,
   "id": "57c95190",
   "metadata": {},
   "outputs": [],
   "source": [
    "path_kaggle = r\"C:\\Users\\franc\\ENTORNO TRABAJO DATA y BI\\IRONHACK\\Projecto Oscars\\csv\\raw\\full_data.xlsx\"\n",
    "df_origin = pd.read_excel(path_kaggle)"
   ]
  },
  {
   "cell_type": "markdown",
   "id": "4ca2ef80",
   "metadata": {},
   "source": [
    "##### Cleaning dataset from kaggle "
   ]
  },
  {
   "cell_type": "code",
   "execution_count": null,
   "id": "9dbda002",
   "metadata": {},
   "outputs": [],
   "source": [
    "def cleaning_kaggle_info(df):\n",
    "    \"\"\"\n",
    "    Cleans and transforms the Kaggle DataFrame.\n",
    "\n",
    "    Args:\n",
    "        df (pd.DataFrame): Original Kaggle DataFrame.\n",
    "\n",
    "    Returns:\n",
    "        pd.DataFrame: Cleaned and transformed DataFrame.\n",
    "    \"\"\"\n",
    "    # Convert column names to lowercase\n",
    "    df.columns = df.columns.str.lower()\n",
    "    \n",
    "    # Convert all in lowercase\n",
    "    df = df.applymap(lambda x: x.lower() if isinstance(x, str) else x)\n",
    "    \n",
    "    # Drop unnecessary columns\n",
    "    df.drop(columns=[ \n",
    "        'class', \n",
    "        'ceremony', \n",
    "        'nomid', \n",
    "        'name', \n",
    "        'nominees', \n",
    "        'nomineeids', \n",
    "        'detail', \n",
    "        'note', \n",
    "        'citation', \n",
    "        'multifilmnomination'\n",
    "    ], inplace=True)\n",
    "    \n",
    "    # Filter out invalid years\n",
    "    df = df[~df['year'].str.contains(r'/', regex=True)]\n",
    "    df['year'] = df['year'].astype(int)\n",
    "    \n",
    "    # Filter the last 10 years\n",
    "    df = df[df['year'] >= 2000]\n",
    "    \n",
    "    # Filter specific film categories\n",
    "    film_categories = [\n",
    "        'best picture',\n",
    "        'animated feature film',\n",
    "        'international feature film'\n",
    "    ]\n",
    "    df = df[df['canonicalcategory'].isin(film_categories)]\n",
    "    \n",
    "    # Convert 'winner' to 0 (no) and 1 (yes)\n",
    "    df['winner'] = df['winner'].fillna(0).astype(int)\n",
    "    \n",
    "    # Convert 0 to 'no' and 1 to 'yes' in the 'winner' column\n",
    "    df['winner'] = df['winner'].replace({0: 'no', 1: 'yes'})\n",
    "    \n",
    "    return df\n",
    "\n"
   ]
  },
  {
   "cell_type": "code",
   "execution_count": null,
   "id": "e9cd1a5a",
   "metadata": {},
   "outputs": [
    {
     "name": "stderr",
     "output_type": "stream",
     "text": [
      "C:\\Users\\franc\\AppData\\Local\\Temp\\ipykernel_14316\\1261603307.py:15: FutureWarning: DataFrame.applymap has been deprecated. Use DataFrame.map instead.\n",
      "  df = df.applymap(lambda x: x.lower() if isinstance(x, str) else x)\n"
     ]
    }
   ],
   "source": [
    "# Call the function and save in csv directory\n",
    "\n",
    "df_cleaned_kaggle = cleaning_kaggle_info(df_origin)\n",
    "df_cleaned_kaggle.to_csv(\"csv/kaggle_clean.csv\", index=False)\n"
   ]
  },
  {
   "cell_type": "markdown",
   "id": "90aad594",
   "metadata": {},
   "source": [
    "##### Create boxoffice dataset"
   ]
  },
  {
   "cell_type": "code",
   "execution_count": null,
   "id": "303a8970",
   "metadata": {},
   "outputs": [],
   "source": [
    "\n",
    "def create_boxoffice_dataset(df_domestic_boxoffice, df_international_boxoffice, df_worldwide):\n",
    "    \"\"\"\n",
    "        Creates a combined DataFrame of box office revenues from three sources:\n",
    "        domestic, international, and worldwide.\n",
    "\n",
    "        Args:\n",
    "            df_domestic_boxoffice (pd.DataFrame): Domestic box office revenue data.\n",
    "            df_international_boxoffice (pd.DataFrame): International box office revenue data.\n",
    "            df_worldwide (pd.DataFrame): Worldwide box office revenue data.\n",
    "\n",
    "        Returns:\n",
    "            pd.DataFrame: Combined and cleaned DataFrame.\n",
    "        \"\"\"\n",
    "    # Eliminar columna 'title' si existe\n",
    "    for df in [df_international_boxoffice, df_worldwide]:\n",
    "        if 'title' in df.columns:\n",
    "            df.drop(columns='title', inplace=True)\n",
    "\n",
    "    # Establecer 'IMDb ID' como índice\n",
    "    df_domestic_boxoffice.set_index('IMDb ID', inplace=True)\n",
    "    df_international_boxoffice.set_index('IMDb ID', inplace=True)\n",
    "    df_worldwide.set_index('IMDb ID', inplace=True)\n",
    "\n",
    "    # Unir los tres DataFrames\n",
    "    df_boxoffice = df_domestic_boxoffice.join(\n",
    "        [df_international_boxoffice, df_worldwide], how='outer'\n",
    "    ).reset_index()\n",
    "\n",
    "    # Limpiar y convertir columnas monetarias\n",
    "    columnas_recaudacion = [\n",
    "        'domestic boxoffice', 'international boxoffice', 'Worlwide boxoffice'\n",
    "    ]\n",
    "    \n",
    "    for col in columnas_recaudacion:\n",
    "        df_boxoffice[col] = (\n",
    "            df_boxoffice[col]\n",
    "            .replace(r'[\\$,]', '', regex=True)\n",
    "            .replace('', np.nan)\n",
    "            .fillna(0)\n",
    "            .astype(int)\n",
    "        )\n",
    "\n",
    "    # Renombrar columna 'IMDb ID' a 'filmid'\n",
    "    df_boxoffice.rename(columns={'IMDb ID': 'filmid'}, inplace=True)\n",
    "\n",
    "    return df_boxoffice\n"
   ]
  },
  {
   "cell_type": "code",
   "execution_count": null,
   "id": "929e2d61",
   "metadata": {},
   "outputs": [],
   "source": [
    "df_boxoffice = create_boxoffice_dataset(\n",
    "    df_domestic_boxoffice, df_international_boxoffice, df_worldwide\n",
    ")\n",
    "\n",
    "df_boxoffice.to_csv('csv/raw/boxoffice_data.csv', index=False)"
   ]
  },
  {
   "cell_type": "markdown",
   "id": "6a8eeea4",
   "metadata": {},
   "source": [
    "##### Data cleaning budgets"
   ]
  },
  {
   "cell_type": "code",
   "execution_count": null,
   "id": "a28f60f9",
   "metadata": {},
   "outputs": [],
   "source": [
    "\n",
    "def clean_budget(df_budget, presupuestos, ruta_salida='movie_budgets_clean.csv'):\n",
    "    \"\"\"\n",
    "        Replaces budget values in the DataFrame based on the `presupuestos` dictionary,\n",
    "        fills missing values with 0, renames 'IMDb ID' to 'filmid', and saves the result to a CSV.\n",
    "\n",
    "        Args:\n",
    "            df_budget (pd.DataFrame): DataFrame with columns 'title' and 'budget'.\n",
    "            presupuestos (dict): Dictionary with budgets by title.\n",
    "            ruta_salida (str): Path to the output CSV file.\n",
    "        \"\"\"\n",
    "    df_budget=pd.read_csv('csv/raw/movie_budgets.csv')\n",
    "    # Reemplazar presupuestos donde haya valores en el diccionario\n",
    "    df_budget['budget'] = df_budget['title'].map(presupuestos).fillna(df_budget['budget'])\n",
    "    df_budget['budget'] = df_budget['budget'].fillna(0)\n",
    "    df_budget['title'] = df_budget['title'].str.lower()\n",
    "\n",
    "    # Renombrar columna IMDb ID si existe\n",
    "    if 'IMDb ID' in df_budget.columns:\n",
    "        df_budget.rename(columns={'IMDb ID': 'filmid'}, inplace=True)\n",
    "\n",
    "    # Guardar el archivo actualizado\n",
    "    df_budget.to_csv(ruta_salida, index=False)\n",
    "    print(f\"✅ Archivo guardado como: {ruta_salida}\")\n"
   ]
  },
  {
   "cell_type": "code",
   "execution_count": null,
   "id": "c7057af3",
   "metadata": {},
   "outputs": [
    {
     "name": "stdout",
     "output_type": "stream",
     "text": [
      "✅ Archivo guardado como: csv/movie_budgets_clean.csv\n"
     ]
    }
   ],
   "source": [
    "df_budget = clean_budget(df_budget, presupuestos, 'csv/movie_budgets_clean.csv')\n"
   ]
  },
  {
   "cell_type": "code",
   "execution_count": null,
   "id": "4b4ec944",
   "metadata": {},
   "outputs": [],
   "source": [
    "def create_financial_data(df_budget, df_boxoffice, ruta_salida='financial_data.csv'):\n",
    "    \"\"\"\n",
    "    Creates a financial dataset containing the revenue and budget of the movies,\n",
    "    calculates the ROI, and saves the result to a CSV file.\n",
    "\n",
    "    Args:\n",
    "        df_budget (pd.DataFrame): DataFrame with information about the movie budgets.\n",
    "        df_boxoffice (pd.DataFrame): DataFrame with the revenue of the movies.\n",
    "        ruta_salida (str): Path to the output CSV file.\n",
    "    \"\"\"\n",
    "    df_budget=pd.read_csv('csv/movie_budgets_clean.csv')\n",
    "    # Eliminar la columna 'title' si existe\n",
    "    for df in [df_budget]:\n",
    "        if 'title' in df.columns:\n",
    "            df.drop(columns='title', inplace=True)\n",
    "\n",
    "    # Establecer 'IMDb ID' como índice\n",
    "    df_budget.set_index('filmid', inplace=True)\n",
    "    df_boxoffice.set_index('filmid', inplace=True)\n",
    "\n",
    "    # Unir los DataFrames de presupuesto y recaudación por 'IMDb ID'\n",
    "    df_financial_info = df_boxoffice.join(\n",
    "        df_budget,\n",
    "        how='inner'\n",
    "    ).reset_index()\n",
    "\n",
    "    # Calcular el ROI\n",
    "    df_financial_info['ROI'] = (\n",
    "        (df_financial_info['Worlwide boxoffice'] - df_financial_info['budget']) / df_financial_info['budget']\n",
    "    ).round(2)\n",
    "\n",
    "    # Guardar el archivo actualizado\n",
    "    df_financial_info.to_csv(ruta_salida, index=False)\n",
    "    print(f\"✅ Archivo guardado como: {ruta_salida}\")\n"
   ]
  },
  {
   "cell_type": "code",
   "execution_count": null,
   "id": "f27b7e21",
   "metadata": {},
   "outputs": [],
   "source": [
    "create_financial_data(df_budget, df_boxoffice, 'csv/financial_data.csv')\n"
   ]
  },
  {
   "cell_type": "code",
   "execution_count": null,
   "id": "da6262a8",
   "metadata": {},
   "outputs": [],
   "source": [
    "def create_final_dataset(df_imdb, df_financial_data, df_kaggle, ruta_salida='final_dataset.csv'):\n",
    "    \"\"\"\n",
    "    Creates the final dataset by merging IMDb, revenue, and awards data, \n",
    "    cleaning unnecessary columns, and saving the resulting CSV file.\n",
    "\n",
    "    Args:\n",
    "        df_imdb (pd.DataFrame): DataFrame with IMDb information.\n",
    "        df_financial_data (pd.DataFrame): DataFrame with financial information (revenue, budget, ROI).\n",
    "        df_kaggle (pd.DataFrame): DataFrame with awards and category information.\n",
    "        ruta_salida (str): Path to the output CSV file.\n",
    "    \"\"\"\n",
    "    # Eliminar columnas si existen en df_financial_data\n",
    "    columnas_a_eliminar = {'title', 'domestic boxoffice', 'international boxoffice'}\n",
    "    if columnas_a_eliminar.issubset(df_financial_data.columns):\n",
    "        df_financial_data.drop(columns=columnas_a_eliminar, inplace=True)\n",
    "\n",
    "    # Eliminar la columna 'filmid' de df_financial_data si existe (para evitar duplicados)\n",
    "    if 'filmid' in df_financial_data.columns:\n",
    "        df_financial_data.drop(columns='filmid', inplace=True)\n",
    "\n",
    "    # Hacer inner join entre IMDb y la información financiera\n",
    "    df_final = df_imdb.join(df_financial_data, how='inner')\n",
    "\n",
    "    # Unir con el DataFrame de Kaggle (filmid como índice)\n",
    "    df_final = df_final.join(df_kaggle.set_index('filmid')[['year', 'winner', 'category']], on='filmid', how='inner')\n",
    "\n",
    "    df_final['genre'] = df_final['genre'].str.split(',').str[0].str.strip()\n",
    "    df_final['country'] = df_final['country'].str.split(',').str[0].str.strip()\n",
    "    # Guardar el archivo final\n",
    "    df_final.to_csv(ruta_salida, index=False)\n",
    "    print(f\"✅ Archivo final guardado como: {ruta_salida}\")\n",
    "\n"
   ]
  },
  {
   "cell_type": "code",
   "execution_count": null,
   "id": "a97a7f3d",
   "metadata": {},
   "outputs": [
    {
     "name": "stdout",
     "output_type": "stream",
     "text": [
      "✅ Archivo final guardado como: csv/final_dataset.csv\n"
     ]
    }
   ],
   "source": [
    "df_financial_data =pd.read_csv('csv/financial_data.csv')\n",
    "create_final_dataset(df_imdb, df_financial_data, df_cleaned_kaggle, 'csv/final_dataset.csv')\n"
   ]
  }
 ],
 "metadata": {
  "language_info": {
   "name": "python"
  }
 },
 "nbformat": 4,
 "nbformat_minor": 5
}
